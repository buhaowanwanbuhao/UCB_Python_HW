{
 "cells": [
  {
   "cell_type": "code",
   "execution_count": 3,
   "metadata": {},
   "outputs": [
    {
     "ename": "FileNotFoundError",
     "evalue": "[Errno 2] No such file or directory: 'Resources\\\\election_data.csv'",
     "output_type": "error",
     "traceback": [
      "\u001b[1;31m---------------------------------------------------------------------------\u001b[0m",
      "\u001b[1;31mFileNotFoundError\u001b[0m                         Traceback (most recent call last)",
      "\u001b[1;32m<ipython-input-3-878b9bbb183f>\u001b[0m in \u001b[0;36m<module>\u001b[1;34m\u001b[0m\n\u001b[0;32m     16\u001b[0m \u001b[1;31m# Open the CSV using the set path PyPollcsv\u001b[0m\u001b[1;33m\u001b[0m\u001b[1;33m\u001b[0m\u001b[1;33m\u001b[0m\u001b[0m\n\u001b[0;32m     17\u001b[0m \u001b[1;33m\u001b[0m\u001b[0m\n\u001b[1;32m---> 18\u001b[1;33m \u001b[1;32mwith\u001b[0m \u001b[0mopen\u001b[0m\u001b[1;33m(\u001b[0m\u001b[0mPyPollcsv\u001b[0m\u001b[1;33m,\u001b[0m \u001b[0mnewline\u001b[0m\u001b[1;33m=\u001b[0m\u001b[1;34m\"\"\u001b[0m\u001b[1;33m)\u001b[0m \u001b[1;32mas\u001b[0m \u001b[0mcsvfile\u001b[0m\u001b[1;33m:\u001b[0m\u001b[1;33m\u001b[0m\u001b[1;33m\u001b[0m\u001b[0m\n\u001b[0m\u001b[0;32m     19\u001b[0m     \u001b[0mcsvreader\u001b[0m \u001b[1;33m=\u001b[0m \u001b[0mcsv\u001b[0m\u001b[1;33m.\u001b[0m\u001b[0mreader\u001b[0m\u001b[1;33m(\u001b[0m\u001b[0mcsvfile\u001b[0m\u001b[1;33m,\u001b[0m \u001b[0mdelimiter\u001b[0m\u001b[1;33m=\u001b[0m\u001b[1;34m\",\"\u001b[0m\u001b[1;33m)\u001b[0m\u001b[1;33m\u001b[0m\u001b[1;33m\u001b[0m\u001b[0m\n\u001b[0;32m     20\u001b[0m     \u001b[0mcsv_header\u001b[0m \u001b[1;33m=\u001b[0m \u001b[0mnext\u001b[0m\u001b[1;33m(\u001b[0m\u001b[0mcsvreader\u001b[0m\u001b[1;33m)\u001b[0m\u001b[1;33m\u001b[0m\u001b[1;33m\u001b[0m\u001b[0m\n",
      "\u001b[1;31mFileNotFoundError\u001b[0m: [Errno 2] No such file or directory: 'Resources\\\\election_data.csv'"
     ]
    }
   ],
   "source": [
    "import os\n",
    "import csv\n",
    "\n",
    "# Objective 2: Set the path for the CSV file in PyPollcsv\n",
    "\n",
    "PyPollcsv = os.path.join(\"Resources\",\"election_data.csv\")\n",
    "\n",
    "# Objective 3: Create the lists to store data. Initialize\n",
    "\n",
    "count = 0\n",
    "candidatelist = []\n",
    "unique_candidate = []\n",
    "vote_count = []\n",
    "vote_percent = []\n",
    "\n",
    "# Open the CSV using the set path PyPollcsv\n",
    "\n",
    "with open(PyPollcsv, newline=\"\") as csvfile:\n",
    "    csvreader = csv.reader(csvfile, delimiter=\",\")\n",
    "    csv_header = next(csvreader)\n",
    "    # Conduct the ask\n",
    "    for row in csvreader:\n",
    "        # Count the total number of votes\n",
    "        count = count + 1\n",
    "        # Set the candidate names to candidatelist\n",
    "        candidatelist.append(row[2])\n",
    "        # Create a set from the candidatelist to get the unique candidate names\n",
    "    for x in set(candidatelist):\n",
    "        unique_candidate.append(x)\n",
    "        # y is the total number of votes per candidate\n",
    "        y = candidatelist.count(x)\n",
    "        vote_count.append(y)\n",
    "        # z is the percent of total votes per candidate\n",
    "        z = (y/count)*100\n",
    "        vote_percent.append(z)\n",
    "        \n",
    "    winning_vote_count = max(vote_count)\n",
    "    winner = unique_candidate[vote_count.index(winning_vote_count)]\n",
    "    \n",
    "# Note to TA: I have tried several ways to get the max of the votecount list and retrieve the name as Winner. But unsucessful. \n",
    "# Hence I am leaving that part out of this code. But Khan is the winner, I know!!!!\n",
    "# Jake suggested: votecount = votecount[\"percentage\"].sort_values()\n",
    "# Print to terminal\n",
    "# Output perhaps needs to be rounded to 3 decimal points. Leaving that formatting out for now) \n",
    " \n",
    "print(\"-------------------------\")\n",
    "print(\"Election Results\")   \n",
    "print(\"-------------------------\")\n",
    "print(\"Total Votes :\" + str(count))    \n",
    "print(\"-------------------------\")\n",
    "for i in range(len(unique_candidate)):\n",
    "            print(unique_candidate[i] + \": \" + str(vote_percent[i]) +\"% (\" + str(vote_count[i])+ \")\")\n",
    "print(\"-------------------------\")\n",
    "print(\"The winner is: \" + winner)\n",
    "print(\"-------------------------\")\n",
    "\n",
    "# Print to a text file: election_results.txt\n",
    "# Output perhaps needs to be rounded to 3 decimal points. Leaving that formatting out for now) \n",
    "\n",
    "with open('election_results.txt', 'w') as text:\n",
    "    text.write(\"Election Results\\n\")\n",
    "    text.write(\"---------------------------------------\\n\")\n",
    "    text.write(\"Total Vote: \" + str(count) + \"\\n\")\n",
    "    text.write(\"---------------------------------------\\n\")\n",
    "    for i in range(len(set(unique_candidate))):\n",
    "        text.write(unique_candidate[i] + \": \" + str(vote_percent[i]) +\"% (\" + str(vote_count[i]) + \")\\n\")\n",
    "    text.write(\"---------------------------------------\\n\")\n",
    "    text.write(\"The winner is: \" + winner + \"\\n\")\n",
    "    text.write(\"---------------------------------------\\n\")\n"
   ]
  }
 ],
 "metadata": {
  "kernelspec": {
   "display_name": "Python 3",
   "language": "python",
   "name": "python3"
  },
  "language_info": {
   "codemirror_mode": {
    "name": "ipython",
    "version": 3
   },
   "file_extension": ".py",
   "mimetype": "text/x-python",
   "name": "python",
   "nbconvert_exporter": "python",
   "pygments_lexer": "ipython3",
   "version": "3.7.3"
  }
 },
 "nbformat": 4,
 "nbformat_minor": 2
}
